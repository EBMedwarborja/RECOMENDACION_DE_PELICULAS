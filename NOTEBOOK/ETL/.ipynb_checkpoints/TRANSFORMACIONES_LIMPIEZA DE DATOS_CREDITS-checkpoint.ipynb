{
 "cells": [
  {
   "cell_type": "code",
   "execution_count": 140,
   "id": "0dd10be4-4fbd-4ebb-bcf1-2c9bb0981ee7",
   "metadata": {},
   "outputs": [],
   "source": [
    "import pandas as pd\n",
    "import ast\n",
    "import os\n",
    "\n"
   ]
  },
  {
   "cell_type": "code",
   "execution_count": 146,
   "id": "3a4e7f09-44e5-49ca-8213-8cfcecfc0d31",
   "metadata": {},
   "outputs": [],
   "source": [
    "\n",
    "ruta = r'C:\\Users\\edwar\\Documents\\PROYETO_DTA_01_SISTEMA_DE_RECOMENDACION\\DATASET\\credits.csv'\n",
    "df = pd.read_csv(ruta)\n"
   ]
  },
  {
   "cell_type": "code",
   "execution_count": 276,
   "id": "e3029d5d-9620-4e7d-969d-11825616506a",
   "metadata": {},
   "outputs": [
    {
     "name": "stdout",
     "output_type": "stream",
     "text": [
      "Cast DataFrame:\n",
      "Empty DataFrame\n",
      "Columns: [cast_id, character, credit_id, gender, id, name, order, profile_path]\n",
      "Index: []\n",
      "\n",
      "Crew DataFrame:\n",
      "Empty DataFrame\n",
      "Columns: [credit_id, department, gender, id, job, name, profile_path]\n",
      "Index: []\n"
     ]
    }
   ],
   "source": [
    "\n",
    "# Crear el DataFrame para 'cast'\n",
    "cast_data = {\n",
    "    'cast_id': [],         # Identificador único para el miembro del reparto\n",
    "    'character': [],       # Nombre del personaje que interpreta el actor\n",
    "    'credit_id': [],       # Identificador único para el crédito del miembro del reparto\n",
    "    'gender': [],          # Código que representa el género del actor\n",
    "    'id': [],              # Identificador único para el actor\n",
    "    'name': [],            # Nombre del actor\n",
    "    'order': [],           # Orden en el que aparece el actor en los créditos\n",
    "    'profile_path': []     # Ruta al perfil del actor (imagen)\n",
    "}\n",
    "\n",
    "cast_df = pd.DataFrame(cast_data)\n",
    "\n",
    "# Crear el DataFrame para 'crew'\n",
    "crew_data = {\n",
    "    'credit_id': [],       # Identificador único para el crédito del miembro del equipo\n",
    "    'department': [],      # Departamento al que pertenece el miembro del equipo\n",
    "    'gender': [],          # Código que representa el género del miembro del equipo\n",
    "    'id': [],              # Identificador único para el miembro del equipo\n",
    "    'job': [],             # Rol o trabajo específico del miembro del equipo\n",
    "    'name': [],            # Nombre del miembro del equipo\n",
    "    'profile_path': []     # Ruta al perfil del miembro del equipo (imagen)\n",
    "}\n",
    "\n",
    "crew_df = pd.DataFrame(crew_data)\n",
    "\n",
    "# Verificar los DataFrames creados\n",
    "print(\"Cast DataFrame:\")\n",
    "print(cast_df.head())\n",
    "\n",
    "print(\"\\nCrew DataFrame:\")\n",
    "print(crew_df.head())\n"
   ]
  },
  {
   "cell_type": "code",
   "execution_count": 278,
   "id": "c13226ff-b439-49c3-968d-3bd4cf7b3d0b",
   "metadata": {},
   "outputs": [
    {
     "name": "stdout",
     "output_type": "stream",
     "text": [
      "   cast_id                character                 credit_id  gender  \\\n",
      "0     14.0            Woody (voice)  52fe4284c3a36847f8024f95     2.0   \n",
      "1     15.0   Buzz Lightyear (voice)  52fe4284c3a36847f8024f99     2.0   \n",
      "2     16.0  Mr. Potato Head (voice)  52fe4284c3a36847f8024f9d     2.0   \n",
      "3     17.0       Slinky Dog (voice)  52fe4284c3a36847f8024fa1     2.0   \n",
      "4     18.0              Rex (voice)  52fe4284c3a36847f8024fa5     2.0   \n",
      "\n",
      "        id           name  order                      profile_path  \n",
      "0     31.0      Tom Hanks    0.0  /pQFoyx7rp09CJTAb932F2g8Nlho.jpg  \n",
      "1  12898.0      Tim Allen    1.0  /uX2xVf6pMmPepxnvFWyBtjexzgY.jpg  \n",
      "2   7167.0    Don Rickles    2.0  /h5BcaDMPRVLHLDzbQavec4xfSdt.jpg  \n",
      "3  12899.0     Jim Varney    3.0  /eIo2jVVXYgjDtaHoF19Ll9vtW7h.jpg  \n",
      "4  12900.0  Wallace Shawn    4.0  /oGE6JqPP2xH4tNORKNqxbNPYi7u.jpg  \n"
     ]
    }
   ],
   "source": [
    "import pandas as pd\n",
    "\n",
    "df_expanded = df.explode('cast')\n",
    "\n",
    "# Convertir la lista de diccionarios en un DataFrame\n",
    "cast_df = pd.json_normalize(df_expanded['cast'])\n",
    "\n",
    "# Seleccionar solo las columnas necesarias para 'cast_df'\n",
    "cast_df = cast_df[['cast_id', 'character', 'credit_id', 'gender', 'id', 'name', 'order', 'profile_path']]\n",
    "\n",
    "# Verificar el DataFrame 'cast_df'\n",
    "print(cast_df.head())\n"
   ]
  },
  {
   "cell_type": "code",
   "execution_count": 280,
   "id": "1e9aa65b-1a4d-4daf-b10b-960e9c8fd0c4",
   "metadata": {},
   "outputs": [
    {
     "name": "stdout",
     "output_type": "stream",
     "text": [
      "   cast_id                character                 credit_id  gender  \\\n",
      "0     14.0            Woody (voice)  52fe4284c3a36847f8024f95     2.0   \n",
      "1     15.0   Buzz Lightyear (voice)  52fe4284c3a36847f8024f99     2.0   \n",
      "2     16.0  Mr. Potato Head (voice)  52fe4284c3a36847f8024f9d     2.0   \n",
      "3     17.0       Slinky Dog (voice)  52fe4284c3a36847f8024fa1     2.0   \n",
      "4     18.0              Rex (voice)  52fe4284c3a36847f8024fa5     2.0   \n",
      "\n",
      "        id           name  order                      profile_path  \n",
      "0     31.0      Tom Hanks    0.0  /pQFoyx7rp09CJTAb932F2g8Nlho.jpg  \n",
      "1  12898.0      Tim Allen    1.0  /uX2xVf6pMmPepxnvFWyBtjexzgY.jpg  \n",
      "2   7167.0    Don Rickles    2.0  /h5BcaDMPRVLHLDzbQavec4xfSdt.jpg  \n",
      "3  12899.0     Jim Varney    3.0  /eIo2jVVXYgjDtaHoF19Ll9vtW7h.jpg  \n",
      "4  12900.0  Wallace Shawn    4.0  /oGE6JqPP2xH4tNORKNqxbNPYi7u.jpg  \n"
     ]
    }
   ],
   "source": [
    "import pandas as pd\n",
    "\n",
    "# Asegúrate de que 'cast' es una lista de diccionarios\n",
    "df['cast'] = df['cast'].apply(lambda x: x if isinstance(x, list) else [])\n",
    "\n",
    "# Expandir la columna 'cast' en filas\n",
    "df_expanded = df.explode('cast')\n",
    "\n",
    "# Convertir la lista de diccionarios en un DataFrame\n",
    "cast_df = pd.json_normalize(df_expanded['cast'])\n",
    "\n",
    "# Seleccionar solo las columnas necesarias para 'cast_df'\n",
    "cast_df = cast_df[['cast_id', 'character', 'credit_id', 'gender', 'id', 'name', 'order', 'profile_path']]\n",
    "\n",
    "# Crear el DataFrame 'cast_data' con los datos extraídos\n",
    "cast_data = cast_df.copy()\n",
    "\n",
    "# Verificar el DataFrame 'cast_data'\n",
    "print(cast_data.head())\n"
   ]
  },
  {
   "cell_type": "code",
   "execution_count": 282,
   "id": "9ee6373d-ef0c-4ba6-88da-641406df8545",
   "metadata": {},
   "outputs": [
    {
     "name": "stdout",
     "output_type": "stream",
     "text": [
      "                  credit_id department  gender       id         job  \\\n",
      "0  52fe4284c3a36847f8024f49  Directing     2.0   7879.0    Director   \n",
      "1  52fe4284c3a36847f8024f4f    Writing     2.0  12891.0  Screenplay   \n",
      "2  52fe4284c3a36847f8024f55    Writing     2.0      7.0  Screenplay   \n",
      "3  52fe4284c3a36847f8024f5b    Writing     2.0  12892.0  Screenplay   \n",
      "4  52fe4284c3a36847f8024f61    Writing     0.0  12893.0  Screenplay   \n",
      "\n",
      "             name                      profile_path  \n",
      "0   John Lasseter  /7EdqiNbr4FRjIhKHyPPdFfEEEFG.jpg  \n",
      "1     Joss Whedon  /dTiVsuaTVTeGmvkhcyJvKp2A5kr.jpg  \n",
      "2  Andrew Stanton  /pvQWsu0qc8JFQhMVJkTHuexUAa1.jpg  \n",
      "3      Joel Cohen  /dAubAiZcvKFbboWlj7oXOkZnTSu.jpg  \n",
      "4    Alec Sokolow  /v79vlRYi94BZUQnkkyznbGUZLjT.jpg  \n"
     ]
    }
   ],
   "source": [
    "\n",
    "df_expanded_crew = df.explode('crew')\n",
    "\n",
    "# Convertir la lista de diccionarios en un DataFrame\n",
    "crew_df = pd.json_normalize(df_expanded_crew['crew'])\n",
    "\n",
    "# Seleccionar solo las columnas necesarias para 'crew_df'\n",
    "crew_df = crew_df[['credit_id', 'department', 'gender', 'id', 'job', 'name', 'profile_path']]\n",
    "\n",
    "# Verificar el DataFrame 'crew_df'\n",
    "print(crew_df.head())\n"
   ]
  },
  {
   "cell_type": "code",
   "execution_count": 284,
   "id": "d7de706e-4612-4b3a-9f94-59de10b5b4e4",
   "metadata": {},
   "outputs": [
    {
     "name": "stdout",
     "output_type": "stream",
     "text": [
      "                  credit_id department  gender       id         job  \\\n",
      "0  52fe4284c3a36847f8024f49  Directing     2.0   7879.0    Director   \n",
      "1  52fe4284c3a36847f8024f4f    Writing     2.0  12891.0  Screenplay   \n",
      "2  52fe4284c3a36847f8024f55    Writing     2.0      7.0  Screenplay   \n",
      "3  52fe4284c3a36847f8024f5b    Writing     2.0  12892.0  Screenplay   \n",
      "4  52fe4284c3a36847f8024f61    Writing     0.0  12893.0  Screenplay   \n",
      "\n",
      "             name                      profile_path  \n",
      "0   John Lasseter  /7EdqiNbr4FRjIhKHyPPdFfEEEFG.jpg  \n",
      "1     Joss Whedon  /dTiVsuaTVTeGmvkhcyJvKp2A5kr.jpg  \n",
      "2  Andrew Stanton  /pvQWsu0qc8JFQhMVJkTHuexUAa1.jpg  \n",
      "3      Joel Cohen  /dAubAiZcvKFbboWlj7oXOkZnTSu.jpg  \n",
      "4    Alec Sokolow  /v79vlRYi94BZUQnkkyznbGUZLjT.jpg  \n"
     ]
    }
   ],
   "source": [
    "\n",
    "df_expanded_crew = df.explode('crew')\n",
    "\n",
    "# Convertir la lista de diccionarios en un DataFrame\n",
    "crew_data = pd.json_normalize(df_expanded_crew['crew'])\n",
    "\n",
    "# Seleccionar solo las columnas necesarias para 'crew_data'\n",
    "crew_data = crew_data[['credit_id', 'department', 'gender', 'id', 'job', 'name', 'profile_path']]\n",
    "\n",
    "# Verificar el DataFrame 'crew_data'\n",
    "print(crew_data.head())\n"
   ]
  },
  {
   "cell_type": "code",
   "execution_count": 286,
   "id": "120f395f-8b9c-4e00-9eb4-f4d4de1bfa3a",
   "metadata": {},
   "outputs": [
    {
     "name": "stdout",
     "output_type": "stream",
     "text": [
      "                 character                 credit_id  gender       id  \\\n",
      "0            Woody (voice)  52fe4284c3a36847f8024f95     2.0     31.0   \n",
      "1   Buzz Lightyear (voice)  52fe4284c3a36847f8024f99     2.0  12898.0   \n",
      "2  Mr. Potato Head (voice)  52fe4284c3a36847f8024f9d     2.0   7167.0   \n",
      "3       Slinky Dog (voice)  52fe4284c3a36847f8024fa1     2.0  12899.0   \n",
      "4              Rex (voice)  52fe4284c3a36847f8024fa5     2.0  12900.0   \n",
      "\n",
      "            name  order  \n",
      "0      Tom Hanks    0.0  \n",
      "1      Tim Allen    1.0  \n",
      "2    Don Rickles    2.0  \n",
      "3     Jim Varney    3.0  \n",
      "4  Wallace Shawn    4.0  \n"
     ]
    }
   ],
   "source": [
    "# Eliminar la primera y última columna de 'cast_data'\n",
    "cast_data = cast_data.iloc[:, 1:-1]\n",
    "\n",
    "# Verificar el DataFrame actualizado 'cast_data'\n",
    "print(cast_data.head())\n"
   ]
  },
  {
   "cell_type": "code",
   "execution_count": 288,
   "id": "0509f55c-31f2-42a9-b545-4578e76e032b",
   "metadata": {},
   "outputs": [
    {
     "name": "stdout",
     "output_type": "stream",
     "text": [
      "  department  gender       id         job            name\n",
      "0  Directing     2.0   7879.0    Director   John Lasseter\n",
      "1    Writing     2.0  12891.0  Screenplay     Joss Whedon\n",
      "2    Writing     2.0      7.0  Screenplay  Andrew Stanton\n",
      "3    Writing     2.0  12892.0  Screenplay      Joel Cohen\n",
      "4    Writing     0.0  12893.0  Screenplay    Alec Sokolow\n"
     ]
    }
   ],
   "source": [
    "# Eliminar la primera y última columna de 'crew_data'\n",
    "crew_data = crew_data.iloc[:, 1:-1]\n",
    "\n",
    "# Verificar el DataFrame actualizado 'crew_data'\n",
    "print(crew_data.head())\n"
   ]
  },
  {
   "cell_type": "code",
   "execution_count": 290,
   "id": "c2e7e0be-7a9d-49ab-8bfe-62b9e99b1d25",
   "metadata": {},
   "outputs": [
    {
     "name": "stdout",
     "output_type": "stream",
     "text": [
      "                 character  gender       id           name  order\n",
      "0            Woody (voice)     2.0     31.0      Tom Hanks    0.0\n",
      "1   Buzz Lightyear (voice)     2.0  12898.0      Tim Allen    1.0\n",
      "2  Mr. Potato Head (voice)     2.0   7167.0    Don Rickles    2.0\n",
      "3       Slinky Dog (voice)     2.0  12899.0     Jim Varney    3.0\n",
      "4              Rex (voice)     2.0  12900.0  Wallace Shawn    4.0\n"
     ]
    }
   ],
   "source": [
    "# Eliminar la columna 'credit_id' de 'cast_data'\n",
    "cast_data = cast_data.drop(columns=['credit_id'])\n",
    "print(cast_data.head())\n"
   ]
  },
  {
   "cell_type": "code",
   "execution_count": null,
   "id": "dac206b9-5479-4ba7-a56f-fda82fcc5cbf",
   "metadata": {},
   "outputs": [],
   "source": []
  }
 ],
 "metadata": {
  "kernelspec": {
   "display_name": "Python 3 (ipykernel)",
   "language": "python",
   "name": "python3"
  },
  "language_info": {
   "codemirror_mode": {
    "name": "ipython",
    "version": 3
   },
   "file_extension": ".py",
   "mimetype": "text/x-python",
   "name": "python",
   "nbconvert_exporter": "python",
   "pygments_lexer": "ipython3",
   "version": "3.11.7"
  }
 },
 "nbformat": 4,
 "nbformat_minor": 5
}
